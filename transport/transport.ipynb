{
 "cells": [
  {
   "cell_type": "code",
   "execution_count": 1,
   "metadata": {},
   "outputs": [],
   "source": [
    "import warnings\n",
    "warnings.filterwarnings('always')\n",
    "warnings.filterwarnings('ignore')\n",
    "\n",
    "import sklearn\n",
    "import pandas as pd\n",
    "import numpy as np\n",
    "import seaborn as sns\n",
    "import pendulum\n",
    "import math\n",
    "import xgboost as xgb\n",
    "import pandas_ml as pdml\n",
    "import matplotlib\n",
    "import matplotlib.pyplot as plt\n",
    "%matplotlib inline"
   ]
  },
  {
   "cell_type": "code",
   "execution_count": 2,
   "metadata": {},
   "outputs": [],
   "source": [
    "from pandas.tools.plotting import scatter_matrix\n",
    "from sklearn.model_selection import train_test_split\n",
    "from sklearn.neighbors import KNeighborsClassifier\n",
    "from sklearn.svm import SVR\n",
    "from sklearn.svm import SVC\n",
    "from sklearn.linear_model import LinearRegression\n",
    "from sklearn import ensemble\n",
    "from sklearn import tree\n",
    "from sklearn.preprocessing import OneHotEncoder\n",
    "from sklearn import metrics\n",
    "from sklearn.metrics import confusion_matrix\n",
    "from sklearn.metrics import precision_recall_fscore_support\n",
    "from sklearn.metrics import accuracy_score\n",
    "from sklearn.metrics import classification_report\n",
    "from sklearn.metrics import mean_squared_error as mse\n",
    "from sklearn.metrics import mean_squared_log_error as msle\n",
    "from sklearn.model_selection import cross_val_score\n",
    "from sklearn.model_selection import GridSearchCV\n",
    "from sklearn.model_selection import StratifiedKFold\n",
    "from sklearn.calibration import CalibratedClassifierCV\n",
    "from sklearn.ensemble import BaggingClassifier"
   ]
  },
  {
   "cell_type": "code",
   "execution_count": 3,
   "metadata": {},
   "outputs": [],
   "source": [
    "data = pd.read_csv('data/transport_data.csv', na_values='-')"
   ]
  },
  {
   "cell_type": "code",
   "execution_count": 4,
   "metadata": {},
   "outputs": [
    {
     "name": "stdout",
     "output_type": "stream",
     "text": [
      "<class 'pandas.core.frame.DataFrame'>\n",
      "RangeIndex: 58665 entries, 0 to 58664\n",
      "Data columns (total 5 columns):\n",
      "log           58665 non-null float64\n",
      "lat           58665 non-null float64\n",
      "request_ts    58665 non-null int64\n",
      "trans_ts      58665 non-null int64\n",
      "label         15000 non-null object\n",
      "dtypes: float64(2), int64(2), object(1)\n",
      "memory usage: 2.2+ MB\n"
     ]
    }
   ],
   "source": [
    "data.info()"
   ]
  },
  {
   "cell_type": "code",
   "execution_count": 5,
   "metadata": {},
   "outputs": [
    {
     "data": {
      "text/html": [
       "<div>\n",
       "<style scoped>\n",
       "    .dataframe tbody tr th:only-of-type {\n",
       "        vertical-align: middle;\n",
       "    }\n",
       "\n",
       "    .dataframe tbody tr th {\n",
       "        vertical-align: top;\n",
       "    }\n",
       "\n",
       "    .dataframe thead th {\n",
       "        text-align: right;\n",
       "    }\n",
       "</style>\n",
       "<table border=\"1\" class=\"dataframe\">\n",
       "  <thead>\n",
       "    <tr style=\"text-align: right;\">\n",
       "      <th></th>\n",
       "      <th>log</th>\n",
       "      <th>lat</th>\n",
       "      <th>request_ts</th>\n",
       "      <th>trans_ts</th>\n",
       "    </tr>\n",
       "  </thead>\n",
       "  <tbody>\n",
       "    <tr>\n",
       "      <th>count</th>\n",
       "      <td>58665.000000</td>\n",
       "      <td>58665.000000</td>\n",
       "      <td>5.866500e+04</td>\n",
       "      <td>5.866500e+04</td>\n",
       "    </tr>\n",
       "    <tr>\n",
       "      <th>mean</th>\n",
       "      <td>30.322805</td>\n",
       "      <td>59.937687</td>\n",
       "      <td>1.512123e+09</td>\n",
       "      <td>1.512123e+09</td>\n",
       "    </tr>\n",
       "    <tr>\n",
       "      <th>std</th>\n",
       "      <td>0.057103</td>\n",
       "      <td>0.008279</td>\n",
       "      <td>9.484725e+04</td>\n",
       "      <td>9.484976e+04</td>\n",
       "    </tr>\n",
       "    <tr>\n",
       "      <th>min</th>\n",
       "      <td>30.213354</td>\n",
       "      <td>59.922436</td>\n",
       "      <td>1.511957e+09</td>\n",
       "      <td>1.511957e+09</td>\n",
       "    </tr>\n",
       "    <tr>\n",
       "      <th>25%</th>\n",
       "      <td>30.293459</td>\n",
       "      <td>59.932198</td>\n",
       "      <td>1.512044e+09</td>\n",
       "      <td>1.512044e+09</td>\n",
       "    </tr>\n",
       "    <tr>\n",
       "      <th>50%</th>\n",
       "      <td>30.327059</td>\n",
       "      <td>59.935230</td>\n",
       "      <td>1.512123e+09</td>\n",
       "      <td>1.512123e+09</td>\n",
       "    </tr>\n",
       "    <tr>\n",
       "      <th>75%</th>\n",
       "      <td>30.367682</td>\n",
       "      <td>59.942097</td>\n",
       "      <td>1.512208e+09</td>\n",
       "      <td>1.512208e+09</td>\n",
       "    </tr>\n",
       "    <tr>\n",
       "      <th>max</th>\n",
       "      <td>30.416616</td>\n",
       "      <td>59.970192</td>\n",
       "      <td>1.512302e+09</td>\n",
       "      <td>1.512302e+09</td>\n",
       "    </tr>\n",
       "  </tbody>\n",
       "</table>\n",
       "</div>"
      ],
      "text/plain": [
       "                log           lat    request_ts      trans_ts\n",
       "count  58665.000000  58665.000000  5.866500e+04  5.866500e+04\n",
       "mean      30.322805     59.937687  1.512123e+09  1.512123e+09\n",
       "std        0.057103      0.008279  9.484725e+04  9.484976e+04\n",
       "min       30.213354     59.922436  1.511957e+09  1.511957e+09\n",
       "25%       30.293459     59.932198  1.512044e+09  1.512044e+09\n",
       "50%       30.327059     59.935230  1.512123e+09  1.512123e+09\n",
       "75%       30.367682     59.942097  1.512208e+09  1.512208e+09\n",
       "max       30.416616     59.970192  1.512302e+09  1.512302e+09"
      ]
     },
     "execution_count": 5,
     "metadata": {},
     "output_type": "execute_result"
    }
   ],
   "source": [
    "data.describe()"
   ]
  },
  {
   "cell_type": "code",
   "execution_count": 6,
   "metadata": {},
   "outputs": [
    {
     "data": {
      "text/plain": [
       "<matplotlib.axes._subplots.AxesSubplot at 0x15698dc9c18>"
      ]
     },
     "execution_count": 6,
     "metadata": {},
     "output_type": "execute_result"
    },
    {
     "data": {
      "image/png": "[encoded data removed]",
      "text/plain": [
       "<Figure size 2160x864 with 2 Axes>"
      ]
     },
     "metadata": {
      "needs_background": "light"
     },
     "output_type": "display_data"
    }
   ],
   "source": [
    "cor_mat = data.corr()\n",
    "mask = np.array(cor_mat)\n",
    "mask[np.tril_indices_from(mask)] = False\n",
    "fig = plt.gcf()\n",
    "fig.set_size_inches(30, 12)\n",
    "sns.heatmap(data=cor_mat, mask=mask, square=True, annot=True, cbar=True)"
   ]
  },
  {
   "cell_type": "code",
   "execution_count": 7,
   "metadata": {},
   "outputs": [
    {
     "data": {
      "text/html": [
       "<div>\n",
       "<style scoped>\n",
       "    .dataframe tbody tr th:only-of-type {\n",
       "        vertical-align: middle;\n",
       "    }\n",
       "\n",
       "    .dataframe tbody tr th {\n",
       "        vertical-align: top;\n",
       "    }\n",
       "\n",
       "    .dataframe thead th {\n",
       "        text-align: right;\n",
       "    }\n",
       "</style>\n",
       "<table border=\"1\" class=\"dataframe\">\n",
       "  <thead>\n",
       "    <tr style=\"text-align: right;\">\n",
       "      <th></th>\n",
       "      <th>log</th>\n",
       "      <th>lat</th>\n",
       "      <th>request_ts</th>\n",
       "      <th>trans_ts</th>\n",
       "    </tr>\n",
       "  </thead>\n",
       "  <tbody>\n",
       "    <tr>\n",
       "      <th>count</th>\n",
       "      <td>58665.000000</td>\n",
       "      <td>58665.000000</td>\n",
       "      <td>5.866500e+04</td>\n",
       "      <td>5.866500e+04</td>\n",
       "    </tr>\n",
       "    <tr>\n",
       "      <th>mean</th>\n",
       "      <td>30.322805</td>\n",
       "      <td>59.937687</td>\n",
       "      <td>1.512123e+09</td>\n",
       "      <td>1.512123e+09</td>\n",
       "    </tr>\n",
       "    <tr>\n",
       "      <th>std</th>\n",
       "      <td>0.057103</td>\n",
       "      <td>0.008279</td>\n",
       "      <td>9.484725e+04</td>\n",
       "      <td>9.484976e+04</td>\n",
       "    </tr>\n",
       "    <tr>\n",
       "      <th>min</th>\n",
       "      <td>30.213354</td>\n",
       "      <td>59.922436</td>\n",
       "      <td>1.511957e+09</td>\n",
       "      <td>1.511957e+09</td>\n",
       "    </tr>\n",
       "    <tr>\n",
       "      <th>25%</th>\n",
       "      <td>30.293459</td>\n",
       "      <td>59.932198</td>\n",
       "      <td>1.512044e+09</td>\n",
       "      <td>1.512044e+09</td>\n",
       "    </tr>\n",
       "    <tr>\n",
       "      <th>50%</th>\n",
       "      <td>30.327059</td>\n",
       "      <td>59.935230</td>\n",
       "      <td>1.512123e+09</td>\n",
       "      <td>1.512123e+09</td>\n",
       "    </tr>\n",
       "    <tr>\n",
       "      <th>75%</th>\n",
       "      <td>30.367682</td>\n",
       "      <td>59.942097</td>\n",
       "      <td>1.512208e+09</td>\n",
       "      <td>1.512208e+09</td>\n",
       "    </tr>\n",
       "    <tr>\n",
       "      <th>max</th>\n",
       "      <td>30.416616</td>\n",
       "      <td>59.970192</td>\n",
       "      <td>1.512302e+09</td>\n",
       "      <td>1.512302e+09</td>\n",
       "    </tr>\n",
       "  </tbody>\n",
       "</table>\n",
       "</div>"
      ],
      "text/plain": [
       "                log           lat    request_ts      trans_ts\n",
       "count  58665.000000  58665.000000  5.866500e+04  5.866500e+04\n",
       "mean      30.322805     59.937687  1.512123e+09  1.512123e+09\n",
       "std        0.057103      0.008279  9.484725e+04  9.484976e+04\n",
       "min       30.213354     59.922436  1.511957e+09  1.511957e+09\n",
       "25%       30.293459     59.932198  1.512044e+09  1.512044e+09\n",
       "50%       30.327059     59.935230  1.512123e+09  1.512123e+09\n",
       "75%       30.367682     59.942097  1.512208e+09  1.512208e+09\n",
       "max       30.416616     59.970192  1.512302e+09  1.512302e+09"
      ]
     },
     "execution_count": 7,
     "metadata": {},
     "output_type": "execute_result"
    }
   ],
   "source": [
    "data.describe()"
   ]
  },
  {
   "cell_type": "code",
   "execution_count": 8,
   "metadata": {},
   "outputs": [],
   "source": [
    "numerical_columns = ['log', 'lat', 'trans_ts', 'request_ts'] "
   ]
  },
  {
   "cell_type": "code",
   "execution_count": 9,
   "metadata": {},
   "outputs": [
    {
     "data": {
      "text/html": [
       "<div>\n",
       "<style scoped>\n",
       "    .dataframe tbody tr th:only-of-type {\n",
       "        vertical-align: middle;\n",
       "    }\n",
       "\n",
       "    .dataframe tbody tr th {\n",
       "        vertical-align: top;\n",
       "    }\n",
       "\n",
       "    .dataframe thead th {\n",
       "        text-align: right;\n",
       "    }\n",
       "</style>\n",
       "<table border=\"1\" class=\"dataframe\">\n",
       "  <thead>\n",
       "    <tr style=\"text-align: right;\">\n",
       "      <th></th>\n",
       "      <th>log</th>\n",
       "      <th>lat</th>\n",
       "      <th>trans_ts</th>\n",
       "      <th>request_ts</th>\n",
       "    </tr>\n",
       "  </thead>\n",
       "  <tbody>\n",
       "    <tr>\n",
       "      <th>count</th>\n",
       "      <td>5.866500e+04</td>\n",
       "      <td>5.866500e+04</td>\n",
       "      <td>5.866500e+04</td>\n",
       "      <td>5.866500e+04</td>\n",
       "    </tr>\n",
       "    <tr>\n",
       "      <th>mean</th>\n",
       "      <td>-2.426249e-15</td>\n",
       "      <td>-2.619184e-13</td>\n",
       "      <td>9.503689e-13</td>\n",
       "      <td>8.333120e-13</td>\n",
       "    </tr>\n",
       "    <tr>\n",
       "      <th>std</th>\n",
       "      <td>1.000000e+00</td>\n",
       "      <td>1.000000e+00</td>\n",
       "      <td>1.000000e+00</td>\n",
       "      <td>1.000000e+00</td>\n",
       "    </tr>\n",
       "    <tr>\n",
       "      <th>min</th>\n",
       "      <td>-1.916735e+00</td>\n",
       "      <td>-1.842144e+00</td>\n",
       "      <td>-1.755110e+00</td>\n",
       "      <td>-1.753171e+00</td>\n",
       "    </tr>\n",
       "    <tr>\n",
       "      <th>25%</th>\n",
       "      <td>-5.139185e-01</td>\n",
       "      <td>-6.630839e-01</td>\n",
       "      <td>-8.307322e-01</td>\n",
       "      <td>-8.305608e-01</td>\n",
       "    </tr>\n",
       "    <tr>\n",
       "      <th>50%</th>\n",
       "      <td>7.449068e-02</td>\n",
       "      <td>-2.967876e-01</td>\n",
       "      <td>-2.337908e-03</td>\n",
       "      <td>-2.060274e-03</td>\n",
       "    </tr>\n",
       "    <tr>\n",
       "      <th>75%</th>\n",
       "      <td>7.858859e-01</td>\n",
       "      <td>5.325627e-01</td>\n",
       "      <td>8.964203e-01</td>\n",
       "      <td>8.965003e-01</td>\n",
       "    </tr>\n",
       "    <tr>\n",
       "      <th>max</th>\n",
       "      <td>1.642847e+00</td>\n",
       "      <td>3.925987e+00</td>\n",
       "      <td>1.890603e+00</td>\n",
       "      <td>1.890246e+00</td>\n",
       "    </tr>\n",
       "  </tbody>\n",
       "</table>\n",
       "</div>"
      ],
      "text/plain": [
       "                log           lat      trans_ts    request_ts\n",
       "count  5.866500e+04  5.866500e+04  5.866500e+04  5.866500e+04\n",
       "mean  -2.426249e-15 -2.619184e-13  9.503689e-13  8.333120e-13\n",
       "std    1.000000e+00  1.000000e+00  1.000000e+00  1.000000e+00\n",
       "min   -1.916735e+00 -1.842144e+00 -1.755110e+00 -1.753171e+00\n",
       "25%   -5.139185e-01 -6.630839e-01 -8.307322e-01 -8.305608e-01\n",
       "50%    7.449068e-02 -2.967876e-01 -2.337908e-03 -2.060274e-03\n",
       "75%    7.858859e-01  5.325627e-01  8.964203e-01  8.965003e-01\n",
       "max    1.642847e+00  3.925987e+00  1.890603e+00  1.890246e+00"
      ]
     },
     "execution_count": 9,
     "metadata": {},
     "output_type": "execute_result"
    }
   ],
   "source": [
    "data_numerical = data[numerical_columns]\n",
    "data_numerical = (\n",
    "    data_numerical - data_numerical.mean()) / data_numerical.std()\n",
    "data_numerical.describe()"
   ]
  },
  {
   "cell_type": "code",
   "execution_count": 10,
   "metadata": {},
   "outputs": [],
   "source": [
    "Y = data['label']"
   ]
  },
  {
   "cell_type": "code",
   "execution_count": 11,
   "metadata": {},
   "outputs": [],
   "source": [
    "data = pd.concat((data_numerical, Y),\n",
    "                 axis=1)"
   ]
  },
  {
   "cell_type": "code",
   "execution_count": 12,
   "metadata": {},
   "outputs": [
    {
     "data": {
      "text/plain": [
       "(43665, 5)"
      ]
     },
     "execution_count": 12,
     "metadata": {},
     "output_type": "execute_result"
    }
   ],
   "source": [
    "unknown = data[data['label'].isnull()]\n",
    "unknown.shape"
   ]
  },
  {
   "cell_type": "code",
   "execution_count": 13,
   "metadata": {},
   "outputs": [],
   "source": [
    "unknown.drop(['label'], axis=1, inplace=True)"
   ]
  },
  {
   "cell_type": "code",
   "execution_count": 14,
   "metadata": {},
   "outputs": [
    {
     "data": {
      "text/plain": [
       "(5000, 4)"
      ]
     },
     "execution_count": 14,
     "metadata": {},
     "output_type": "execute_result"
    }
   ],
   "source": [
    "Test = data[data['label']=='?']\n",
    "Test.drop(['label'],axis=1, inplace=True)\n",
    "Test.shape"
   ]
  },
  {
   "cell_type": "code",
   "execution_count": 15,
   "metadata": {},
   "outputs": [
    {
     "data": {
      "text/plain": [
       "(10000, 5)"
      ]
     },
     "execution_count": 15,
     "metadata": {},
     "output_type": "execute_result"
    }
   ],
   "source": [
    "Train = data[data['label'].isin(['0','1','2'])]\n",
    "Train.shape"
   ]
  },
  {
   "cell_type": "code",
   "execution_count": 16,
   "metadata": {},
   "outputs": [],
   "source": [
    "Y = Train['label']\n",
    "Train.drop(['label'], axis=1, inplace=True)"
   ]
  },
  {
   "cell_type": "code",
   "execution_count": 17,
   "metadata": {},
   "outputs": [],
   "source": [
    "Y = Y.apply(lambda x: str(x))"
   ]
  },
  {
   "cell_type": "code",
   "execution_count": 18,
   "metadata": {},
   "outputs": [],
   "source": [
    "X_train, X_test, Y_train, Y_test = train_test_split(\n",
    "    Train, Y, test_size=0.3, random_state=11)"
   ]
  },
  {
   "cell_type": "code",
   "execution_count": 19,
   "metadata": {},
   "outputs": [
    {
     "name": "stdout",
     "output_type": "stream",
     "text": [
      "CV: 0.5683052864376218\n",
      "CV: 0.5902975313825614\n",
      "CV: 0.6136010564675235\n"
     ]
    }
   ],
   "source": [
    "clf = tree.DecisionTreeClassifier(random_state=11)\n",
    "\n",
    "kf = StratifiedKFold(random_state=11, n_splits=10, shuffle=True)\n",
    "scores = cross_val_score(clf, Train, Y, cv=kf)\n",
    "print(\"CV:\", np.mean(scores)) \n",
    "\n",
    "kf = StratifiedKFold(random_state=11, n_splits=10, shuffle=True)\n",
    "clf = BaggingClassifier(clf, random_state=11)\n",
    "scores = cross_val_score(clf, Train, Y, cv=kf)\n",
    "print(\"CV:\", np.mean(scores))\n",
    "\n",
    "clf = CalibratedClassifierCV(clf, method='sigmoid', cv=StratifiedKFold(random_state=11, n_splits=10, shuffle=True))\n",
    "scores = cross_val_score(clf, Train, Y, cv=kf)\n",
    "print(\"CV:\", np.mean(scores))\n"
   ]
  },
  {
   "cell_type": "code",
   "execution_count": 20,
   "metadata": {},
   "outputs": [
    {
     "data": {
      "text/plain": [
       "CalibratedClassifierCV(base_estimator=BaggingClassifier(base_estimator=DecisionTreeClassifier(class_weight=None, criterion='gini', max_depth=None,\n",
       "            max_features=None, max_leaf_nodes=None,\n",
       "            min_impurity_decrease=0.0, min_impurity_split=None,\n",
       "            min_samples_leaf=1, min_samples_split=2,\n",
       "       ..._estimators=10, n_jobs=None, oob_score=False,\n",
       "         random_state=11, verbose=0, warm_start=False),\n",
       "            cv=StratifiedKFold(n_splits=10, random_state=11, shuffle=True),\n",
       "            method='sigmoid')"
      ]
     },
     "execution_count": 20,
     "metadata": {},
     "output_type": "execute_result"
    }
   ],
   "source": [
    "clf.fit(Train, Y)"
   ]
  },
  {
   "cell_type": "code",
   "execution_count": 21,
   "metadata": {},
   "outputs": [],
   "source": [
    "Y_pr = clf.predict(Test)\n",
    "Y_pr = pd.DataFrame(Y_pr)\n",
    "Y_pr.to_csv('Y_pr.csv', index=None, header=None)"
   ]
  }
 ],
 "metadata": {
  "kernelspec": {
   "display_name": "Python 3",
   "language": "python",
   "name": "python3"
  },
  "language_info": {
   "codemirror_mode": {
    "name": "ipython",
    "version": 3
   },
   "file_extension": ".py",
   "mimetype": "text/x-python",
   "name": "python",
   "nbconvert_exporter": "python",
   "pygments_lexer": "ipython3",
   "version": "3.6.7"
  }
 },
 "nbformat": 4,
 "nbformat_minor": 2
}
